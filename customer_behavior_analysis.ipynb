{
 "cells": [
  {
   "cell_type": "code",
   "execution_count": 1,
   "metadata": {},
   "outputs": [],
   "source": [
    "import pandas as pd\n",
    "import numpy as np\n",
    "import matplotlib.pyplot as plt\n",
    "import seaborn as sns"
   ]
  },
  {
   "cell_type": "code",
   "execution_count": 21,
   "metadata": {},
   "outputs": [
    {
     "data": {
      "text/html": [
       "<div>\n",
       "<style scoped>\n",
       "    .dataframe tbody tr th:only-of-type {\n",
       "        vertical-align: middle;\n",
       "    }\n",
       "\n",
       "    .dataframe tbody tr th {\n",
       "        vertical-align: top;\n",
       "    }\n",
       "\n",
       "    .dataframe thead th {\n",
       "        text-align: right;\n",
       "    }\n",
       "</style>\n",
       "<table border=\"1\" class=\"dataframe\">\n",
       "  <thead>\n",
       "    <tr style=\"text-align: right;\">\n",
       "      <th></th>\n",
       "      <th>date</th>\n",
       "      <th>month_name</th>\n",
       "      <th>calendar_week</th>\n",
       "      <th>customer_code</th>\n",
       "      <th>trans_category</th>\n",
       "      <th>country</th>\n",
       "      <th>order_no</th>\n",
       "      <th>sales_value</th>\n",
       "    </tr>\n",
       "  </thead>\n",
       "  <tbody>\n",
       "    <tr>\n",
       "      <th>0</th>\n",
       "      <td>1-08-24</td>\n",
       "      <td>January</td>\n",
       "      <td>2</td>\n",
       "      <td>A141705</td>\n",
       "      <td>Machine</td>\n",
       "      <td>Thailand</td>\n",
       "      <td>AA41305050</td>\n",
       "      <td>998000.00</td>\n",
       "    </tr>\n",
       "    <tr>\n",
       "      <th>1</th>\n",
       "      <td>1-11-24</td>\n",
       "      <td>January</td>\n",
       "      <td>2</td>\n",
       "      <td>A149276</td>\n",
       "      <td>Machine</td>\n",
       "      <td>Singapore</td>\n",
       "      <td>AA41305027</td>\n",
       "      <td>250528.12</td>\n",
       "    </tr>\n",
       "    <tr>\n",
       "      <th>2</th>\n",
       "      <td>1-11-24</td>\n",
       "      <td>January</td>\n",
       "      <td>2</td>\n",
       "      <td>A111783</td>\n",
       "      <td>Machine</td>\n",
       "      <td>Malaysia</td>\n",
       "      <td>AA41305028</td>\n",
       "      <td>1446604.07</td>\n",
       "    </tr>\n",
       "    <tr>\n",
       "      <th>3</th>\n",
       "      <td>1-11-24</td>\n",
       "      <td>January</td>\n",
       "      <td>2</td>\n",
       "      <td>A145273</td>\n",
       "      <td>Spare part</td>\n",
       "      <td>Nigeria</td>\n",
       "      <td>AA41406867</td>\n",
       "      <td>1359395.40</td>\n",
       "    </tr>\n",
       "    <tr>\n",
       "      <th>4</th>\n",
       "      <td>1-12-24</td>\n",
       "      <td>January</td>\n",
       "      <td>2</td>\n",
       "      <td>A110168</td>\n",
       "      <td>Aftersales</td>\n",
       "      <td>Malaysia</td>\n",
       "      <td>AA41305034</td>\n",
       "      <td>2995.28</td>\n",
       "    </tr>\n",
       "  </tbody>\n",
       "</table>\n",
       "</div>"
      ],
      "text/plain": [
       "      date month_name  calendar_week customer_code trans_category    country  \\\n",
       "0  1-08-24    January              2       A141705        Machine   Thailand   \n",
       "1  1-11-24    January              2       A149276        Machine  Singapore   \n",
       "2  1-11-24    January              2       A111783        Machine   Malaysia   \n",
       "3  1-11-24    January              2       A145273     Spare part    Nigeria   \n",
       "4  1-12-24    January              2       A110168     Aftersales   Malaysia   \n",
       "\n",
       "     order_no  sales_value  \n",
       "0  AA41305050    998000.00  \n",
       "1  AA41305027    250528.12  \n",
       "2  AA41305028   1446604.07  \n",
       "3  AA41406867   1359395.40  \n",
       "4  AA41305034      2995.28  "
      ]
     },
     "execution_count": 21,
     "metadata": {},
     "output_type": "execute_result"
    }
   ],
   "source": [
    "data = pd.read_csv(\"../Sample Datasets/transactions_data.csv\")\n",
    "data.head()"
   ]
  },
  {
   "cell_type": "code",
   "execution_count": 22,
   "metadata": {},
   "outputs": [
    {
     "data": {
      "text/html": [
       "<div>\n",
       "<style scoped>\n",
       "    .dataframe tbody tr th:only-of-type {\n",
       "        vertical-align: middle;\n",
       "    }\n",
       "\n",
       "    .dataframe tbody tr th {\n",
       "        vertical-align: top;\n",
       "    }\n",
       "\n",
       "    .dataframe thead th {\n",
       "        text-align: right;\n",
       "    }\n",
       "</style>\n",
       "<table border=\"1\" class=\"dataframe\">\n",
       "  <thead>\n",
       "    <tr style=\"text-align: right;\">\n",
       "      <th></th>\n",
       "      <th>date</th>\n",
       "      <th>month_name</th>\n",
       "      <th>customer_code</th>\n",
       "      <th>trans_category</th>\n",
       "      <th>country</th>\n",
       "      <th>order_no</th>\n",
       "      <th>sales_value</th>\n",
       "    </tr>\n",
       "  </thead>\n",
       "  <tbody>\n",
       "    <tr>\n",
       "      <th>1017</th>\n",
       "      <td>12-24-24</td>\n",
       "      <td>December</td>\n",
       "      <td>A113262</td>\n",
       "      <td>Machine</td>\n",
       "      <td>Thailand</td>\n",
       "      <td>AA41305621</td>\n",
       "      <td>55000.0</td>\n",
       "    </tr>\n",
       "    <tr>\n",
       "      <th>1018</th>\n",
       "      <td>12-24-24</td>\n",
       "      <td>December</td>\n",
       "      <td>A132459</td>\n",
       "      <td>Spare part</td>\n",
       "      <td>Thailand</td>\n",
       "      <td>AA41407707</td>\n",
       "      <td>122216.4</td>\n",
       "    </tr>\n",
       "    <tr>\n",
       "      <th>1019</th>\n",
       "      <td>12-24-24</td>\n",
       "      <td>December</td>\n",
       "      <td>A146571</td>\n",
       "      <td>Spare part</td>\n",
       "      <td>Thailand</td>\n",
       "      <td>AA41407713</td>\n",
       "      <td>6632.0</td>\n",
       "    </tr>\n",
       "  </tbody>\n",
       "</table>\n",
       "</div>"
      ],
      "text/plain": [
       "          date month_name customer_code trans_category   country    order_no  \\\n",
       "1017  12-24-24   December       A113262        Machine  Thailand  AA41305621   \n",
       "1018  12-24-24   December       A132459     Spare part  Thailand  AA41407707   \n",
       "1019  12-24-24   December       A146571     Spare part  Thailand  AA41407713   \n",
       "\n",
       "      sales_value  \n",
       "1017      55000.0  \n",
       "1018     122216.4  \n",
       "1019       6632.0  "
      ]
     },
     "execution_count": 22,
     "metadata": {},
     "output_type": "execute_result"
    }
   ],
   "source": [
    "data = data.drop([\"calendar_week\"], axis = 1)\n",
    "data.tail(3)"
   ]
  },
  {
   "cell_type": "code",
   "execution_count": 23,
   "metadata": {},
   "outputs": [
    {
     "data": {
      "text/plain": [
       "date              0\n",
       "month_name        0\n",
       "customer_code     0\n",
       "trans_category    0\n",
       "country           0\n",
       "order_no          0\n",
       "sales_value       0\n",
       "dtype: int64"
      ]
     },
     "execution_count": 23,
     "metadata": {},
     "output_type": "execute_result"
    }
   ],
   "source": [
    "data.isnull().sum()"
   ]
  },
  {
   "cell_type": "code",
   "execution_count": 24,
   "metadata": {},
   "outputs": [
    {
     "data": {
      "text/plain": [
       "date              0\n",
       "month_name        0\n",
       "customer_code     0\n",
       "trans_category    0\n",
       "country           0\n",
       "order_no          0\n",
       "sales_value       0\n",
       "dtype: int64"
      ]
     },
     "execution_count": 24,
     "metadata": {},
     "output_type": "execute_result"
    }
   ],
   "source": [
    "data.isna().sum()"
   ]
  },
  {
   "cell_type": "code",
   "execution_count": 25,
   "metadata": {},
   "outputs": [
    {
     "data": {
      "text/html": [
       "<div>\n",
       "<style scoped>\n",
       "    .dataframe tbody tr th:only-of-type {\n",
       "        vertical-align: middle;\n",
       "    }\n",
       "\n",
       "    .dataframe tbody tr th {\n",
       "        vertical-align: top;\n",
       "    }\n",
       "\n",
       "    .dataframe thead th {\n",
       "        text-align: right;\n",
       "    }\n",
       "</style>\n",
       "<table border=\"1\" class=\"dataframe\">\n",
       "  <thead>\n",
       "    <tr style=\"text-align: right;\">\n",
       "      <th></th>\n",
       "      <th>count</th>\n",
       "      <th>mean</th>\n",
       "      <th>std</th>\n",
       "      <th>min</th>\n",
       "      <th>25%</th>\n",
       "      <th>50%</th>\n",
       "      <th>75%</th>\n",
       "      <th>max</th>\n",
       "    </tr>\n",
       "  </thead>\n",
       "  <tbody>\n",
       "    <tr>\n",
       "      <th>sales_value</th>\n",
       "      <td>1020.0</td>\n",
       "      <td>269409.605912</td>\n",
       "      <td>995061.933448</td>\n",
       "      <td>0.0</td>\n",
       "      <td>18127.18</td>\n",
       "      <td>44023.26</td>\n",
       "      <td>130695.755</td>\n",
       "      <td>15000000.0</td>\n",
       "    </tr>\n",
       "  </tbody>\n",
       "</table>\n",
       "</div>"
      ],
      "text/plain": [
       "              count           mean            std  min       25%       50%  \\\n",
       "sales_value  1020.0  269409.605912  995061.933448  0.0  18127.18  44023.26   \n",
       "\n",
       "                    75%         max  \n",
       "sales_value  130695.755  15000000.0  "
      ]
     },
     "execution_count": 25,
     "metadata": {},
     "output_type": "execute_result"
    }
   ],
   "source": [
    "data.describe().T"
   ]
  },
  {
   "cell_type": "code",
   "execution_count": 26,
   "metadata": {},
   "outputs": [
    {
     "data": {
      "text/html": [
       "<div>\n",
       "<style scoped>\n",
       "    .dataframe tbody tr th:only-of-type {\n",
       "        vertical-align: middle;\n",
       "    }\n",
       "\n",
       "    .dataframe tbody tr th {\n",
       "        vertical-align: top;\n",
       "    }\n",
       "\n",
       "    .dataframe thead th {\n",
       "        text-align: right;\n",
       "    }\n",
       "</style>\n",
       "<table border=\"1\" class=\"dataframe\">\n",
       "  <thead>\n",
       "    <tr style=\"text-align: right;\">\n",
       "      <th></th>\n",
       "      <th>date</th>\n",
       "      <th>month_name</th>\n",
       "      <th>customer_code</th>\n",
       "      <th>trans_category</th>\n",
       "      <th>country</th>\n",
       "      <th>order_no</th>\n",
       "      <th>sales_value</th>\n",
       "    </tr>\n",
       "  </thead>\n",
       "  <tbody>\n",
       "    <tr>\n",
       "      <th>168</th>\n",
       "      <td>3-01-24</td>\n",
       "      <td>March</td>\n",
       "      <td>A138395</td>\n",
       "      <td>Foc</td>\n",
       "      <td>Indonesia</td>\n",
       "      <td>FF42000006</td>\n",
       "      <td>0.0</td>\n",
       "    </tr>\n",
       "    <tr>\n",
       "      <th>203</th>\n",
       "      <td>3-14-24</td>\n",
       "      <td>March</td>\n",
       "      <td>A116260</td>\n",
       "      <td>Foc</td>\n",
       "      <td>Australia</td>\n",
       "      <td>FF42000007</td>\n",
       "      <td>0.0</td>\n",
       "    </tr>\n",
       "    <tr>\n",
       "      <th>304</th>\n",
       "      <td>4-25-24</td>\n",
       "      <td>April</td>\n",
       "      <td>A121218</td>\n",
       "      <td>Foc</td>\n",
       "      <td>Indonesia</td>\n",
       "      <td>FF42000003</td>\n",
       "      <td>0.0</td>\n",
       "    </tr>\n",
       "    <tr>\n",
       "      <th>517</th>\n",
       "      <td>7-08-24</td>\n",
       "      <td>July</td>\n",
       "      <td>A121218</td>\n",
       "      <td>Foc</td>\n",
       "      <td>Indonesia</td>\n",
       "      <td>FF42000004</td>\n",
       "      <td>0.0</td>\n",
       "    </tr>\n",
       "    <tr>\n",
       "      <th>782</th>\n",
       "      <td>10-01-24</td>\n",
       "      <td>October</td>\n",
       "      <td>A144005</td>\n",
       "      <td>Foc</td>\n",
       "      <td>New Zealand</td>\n",
       "      <td>FF42000000</td>\n",
       "      <td>0.0</td>\n",
       "    </tr>\n",
       "  </tbody>\n",
       "</table>\n",
       "</div>"
      ],
      "text/plain": [
       "         date month_name customer_code trans_category      country  \\\n",
       "168   3-01-24      March       A138395            Foc    Indonesia   \n",
       "203   3-14-24      March       A116260            Foc    Australia   \n",
       "304   4-25-24      April       A121218            Foc    Indonesia   \n",
       "517   7-08-24       July       A121218            Foc    Indonesia   \n",
       "782  10-01-24    October       A144005            Foc  New Zealand   \n",
       "\n",
       "       order_no  sales_value  \n",
       "168  FF42000006          0.0  \n",
       "203  FF42000007          0.0  \n",
       "304  FF42000003          0.0  \n",
       "517  FF42000004          0.0  \n",
       "782  FF42000000          0.0  "
      ]
     },
     "execution_count": 26,
     "metadata": {},
     "output_type": "execute_result"
    }
   ],
   "source": [
    "data[data[\"sales_value\"] == 0.0].head()"
   ]
  },
  {
   "cell_type": "code",
   "execution_count": 27,
   "metadata": {},
   "outputs": [
    {
     "data": {
      "text/plain": [
       "(1012, 7)"
      ]
     },
     "execution_count": 27,
     "metadata": {},
     "output_type": "execute_result"
    }
   ],
   "source": [
    "data = data[data[\"sales_value\"] > 0.0]\n",
    "data.shape"
   ]
  },
  {
   "cell_type": "code",
   "execution_count": 28,
   "metadata": {},
   "outputs": [
    {
     "name": "stdout",
     "output_type": "stream",
     "text": [
      "<class 'pandas.core.frame.DataFrame'>\n",
      "Int64Index: 1012 entries, 0 to 1019\n",
      "Data columns (total 7 columns):\n",
      " #   Column          Non-Null Count  Dtype  \n",
      "---  ------          --------------  -----  \n",
      " 0   date            1012 non-null   object \n",
      " 1   month_name      1012 non-null   object \n",
      " 2   customer_code   1012 non-null   object \n",
      " 3   trans_category  1012 non-null   object \n",
      " 4   country         1012 non-null   object \n",
      " 5   order_no        1012 non-null   object \n",
      " 6   sales_value     1012 non-null   float64\n",
      "dtypes: float64(1), object(6)\n",
      "memory usage: 63.2+ KB\n"
     ]
    }
   ],
   "source": [
    "data.info()"
   ]
  },
  {
   "cell_type": "code",
   "execution_count": 29,
   "metadata": {},
   "outputs": [
    {
     "data": {
      "text/plain": [
       "dtype('<M8[ns]')"
      ]
     },
     "execution_count": 29,
     "metadata": {},
     "output_type": "execute_result"
    }
   ],
   "source": [
    "data[\"date\"] = pd.to_datetime(data[\"date\"])\n",
    "data[\"date\"].dtype"
   ]
  },
  {
   "cell_type": "code",
   "execution_count": 30,
   "metadata": {},
   "outputs": [
    {
     "data": {
      "text/html": [
       "<div>\n",
       "<style scoped>\n",
       "    .dataframe tbody tr th:only-of-type {\n",
       "        vertical-align: middle;\n",
       "    }\n",
       "\n",
       "    .dataframe tbody tr th {\n",
       "        vertical-align: top;\n",
       "    }\n",
       "\n",
       "    .dataframe thead th {\n",
       "        text-align: right;\n",
       "    }\n",
       "</style>\n",
       "<table border=\"1\" class=\"dataframe\">\n",
       "  <thead>\n",
       "    <tr style=\"text-align: right;\">\n",
       "      <th></th>\n",
       "      <th>date</th>\n",
       "      <th>month_name</th>\n",
       "      <th>customer_code</th>\n",
       "      <th>trans_category</th>\n",
       "      <th>country</th>\n",
       "      <th>order_no</th>\n",
       "      <th>sales_value</th>\n",
       "    </tr>\n",
       "  </thead>\n",
       "  <tbody>\n",
       "    <tr>\n",
       "      <th>0</th>\n",
       "      <td>2024-01-08</td>\n",
       "      <td>January</td>\n",
       "      <td>A141705</td>\n",
       "      <td>Machine</td>\n",
       "      <td>Thailand</td>\n",
       "      <td>AA41305050</td>\n",
       "      <td>998000.00</td>\n",
       "    </tr>\n",
       "    <tr>\n",
       "      <th>1</th>\n",
       "      <td>2024-01-11</td>\n",
       "      <td>January</td>\n",
       "      <td>A149276</td>\n",
       "      <td>Machine</td>\n",
       "      <td>Singapore</td>\n",
       "      <td>AA41305027</td>\n",
       "      <td>250528.12</td>\n",
       "    </tr>\n",
       "    <tr>\n",
       "      <th>2</th>\n",
       "      <td>2024-01-11</td>\n",
       "      <td>January</td>\n",
       "      <td>A111783</td>\n",
       "      <td>Machine</td>\n",
       "      <td>Malaysia</td>\n",
       "      <td>AA41305028</td>\n",
       "      <td>1446604.07</td>\n",
       "    </tr>\n",
       "  </tbody>\n",
       "</table>\n",
       "</div>"
      ],
      "text/plain": [
       "        date month_name customer_code trans_category    country    order_no  \\\n",
       "0 2024-01-08    January       A141705        Machine   Thailand  AA41305050   \n",
       "1 2024-01-11    January       A149276        Machine  Singapore  AA41305027   \n",
       "2 2024-01-11    January       A111783        Machine   Malaysia  AA41305028   \n",
       "\n",
       "   sales_value  \n",
       "0    998000.00  \n",
       "1    250528.12  \n",
       "2   1446604.07  "
      ]
     },
     "execution_count": 30,
     "metadata": {},
     "output_type": "execute_result"
    }
   ],
   "source": [
    "data[data[\"month_name\"] == \"January\"].head(3)"
   ]
  },
  {
   "cell_type": "markdown",
   "metadata": {},
   "source": [
    "## Customer Distribution by Country "
   ]
  },
  {
   "cell_type": "code",
   "execution_count": null,
   "metadata": {},
   "outputs": [
    {
     "data": {
      "text/plain": [
       "Thailand       0.470356\n",
       "Indonesia      0.266798\n",
       "Australia      0.081028\n",
       "Malaysia       0.071146\n",
       "Philippines    0.053360\n",
       "New Zealand    0.011858\n",
       "Singapore      0.010870\n",
       "Myanmar        0.010870\n",
       "Italy          0.006917\n",
       "Nigeria        0.004941\n",
       "Tanzania       0.002964\n",
       "Fiji           0.002964\n",
       "Ghana          0.001976\n",
       "Vietnam        0.001976\n",
       "Taiwan         0.001976\n",
       "Name: country, dtype: float64"
      ]
     },
     "metadata": {},
     "output_type": "display_data"
    },
    {
     "data": {
      "image/png": "[encoded data removed]",
      "text/plain": [
       "<Figure size 1000x500 with 1 Axes>"
      ]
     },
     "metadata": {},
     "output_type": "display_data"
    }
   ],
   "source": [
    "display(data[\"country\"].value_counts(normalize=True).sort_values(ascending=False))\n",
    "data[\"country\"].value_counts(ascending=False)[:9].plot(kind = 'barh')"
   ]
  },
  {
   "cell_type": "markdown",
   "metadata": {},
   "source": [
    "## Monthly Sales"
   ]
  },
  {
   "cell_type": "code",
   "execution_count": null,
   "metadata": {},
   "outputs": [
    {
     "data": {
      "text/html": [
       "<div>\n",
       "<style scoped>\n",
       "    .dataframe tbody tr th:only-of-type {\n",
       "        vertical-align: middle;\n",
       "    }\n",
       "\n",
       "    .dataframe tbody tr th {\n",
       "        vertical-align: top;\n",
       "    }\n",
       "\n",
       "    .dataframe thead th {\n",
       "        text-align: right;\n",
       "    }\n",
       "</style>\n",
       "<table border=\"1\" class=\"dataframe\">\n",
       "  <thead>\n",
       "    <tr style=\"text-align: right;\">\n",
       "      <th></th>\n",
       "      <th>sales_value</th>\n",
       "    </tr>\n",
       "    <tr>\n",
       "      <th>month_name</th>\n",
       "      <th></th>\n",
       "    </tr>\n",
       "  </thead>\n",
       "  <tbody>\n",
       "    <tr>\n",
       "      <th>September</th>\n",
       "      <td>53404654.38</td>\n",
       "    </tr>\n",
       "    <tr>\n",
       "      <th>March</th>\n",
       "      <td>37202725.82</td>\n",
       "    </tr>\n",
       "    <tr>\n",
       "      <th>June</th>\n",
       "      <td>31410665.62</td>\n",
       "    </tr>\n",
       "    <tr>\n",
       "      <th>July</th>\n",
       "      <td>23773232.40</td>\n",
       "    </tr>\n",
       "    <tr>\n",
       "      <th>May</th>\n",
       "      <td>22499736.16</td>\n",
       "    </tr>\n",
       "    <tr>\n",
       "      <th>February</th>\n",
       "      <td>20395844.61</td>\n",
       "    </tr>\n",
       "    <tr>\n",
       "      <th>January</th>\n",
       "      <td>18085235.87</td>\n",
       "    </tr>\n",
       "    <tr>\n",
       "      <th>August</th>\n",
       "      <td>16630686.55</td>\n",
       "    </tr>\n",
       "    <tr>\n",
       "      <th>November</th>\n",
       "      <td>15206208.01</td>\n",
       "    </tr>\n",
       "    <tr>\n",
       "      <th>October</th>\n",
       "      <td>15095263.23</td>\n",
       "    </tr>\n",
       "    <tr>\n",
       "      <th>April</th>\n",
       "      <td>14129131.29</td>\n",
       "    </tr>\n",
       "    <tr>\n",
       "      <th>December</th>\n",
       "      <td>6964414.09</td>\n",
       "    </tr>\n",
       "  </tbody>\n",
       "</table>\n",
       "</div>"
      ],
      "text/plain": [
       "            sales_value\n",
       "month_name             \n",
       "September   53404654.38\n",
       "March       37202725.82\n",
       "June        31410665.62\n",
       "July        23773232.40\n",
       "May         22499736.16\n",
       "February    20395844.61\n",
       "January     18085235.87\n",
       "August      16630686.55\n",
       "November    15206208.01\n",
       "October     15095263.23\n",
       "April       14129131.29\n",
       "December     6964414.09"
      ]
     },
     "metadata": {},
     "output_type": "display_data"
    },
    {
     "data": {
      "text/plain": [
       "<Axes: xlabel='month_name'>"
      ]
     },
     "execution_count": 92,
     "metadata": {},
     "output_type": "execute_result"
    },
    {
     "data": {
      "image/png": "[encoded data removed]",
      "text/plain": [
       "<Figure size 640x480 with 1 Axes>"
      ]
     },
     "metadata": {},
     "output_type": "display_data"
    }
   ],
   "source": [
    "df = pd.DataFrame(data.groupby(\"month_name\")[\"sales_value\"].sum())\n",
    "df = df.sort_values('sales_value', ascending = False)\n",
    "display(df)\n",
    "df.plot(kind = \"bar\")\n",
    "\n",
    "# df = data.groupby([\"month_name\"]).agg({\"sales_value\":\"sum\"}).reset_index().sort_values('sales_value', ascending=False)"
   ]
  },
  {
   "cell_type": "code",
   "execution_count": 33,
   "metadata": {},
   "outputs": [
    {
     "data": {
      "image/png": "[encoded data removed]",
      "text/plain": [
       "<Figure size 1000x600 with 1 Axes>"
      ]
     },
     "metadata": {},
     "output_type": "display_data"
    }
   ],
   "source": [
    "# outliers detection\n",
    "\n",
    "plt.figure(figsize = (10, 6))\n",
    "sns.boxplot(data[\"sales_value\"])\n",
    "plt.title(\"Boxplot of sales value\")\n",
    "plt.show()"
   ]
  },
  {
   "cell_type": "code",
   "execution_count": 34,
   "metadata": {},
   "outputs": [],
   "source": [
    "# calculation IQR\n",
    "\n",
    "Q1 = data[\"sales_value\"].quantile(0.25)\n",
    "Q3 = data[\"sales_value\"].quantile(0.75)\n",
    "IQR = Q3 - Q1\n",
    "\n",
    "lower_bound = Q1 - 1.5 * IQR\n",
    "upper_bound = Q3 + 1.5 * IQR\n",
    "\n",
    "outliers = data[(data[\"sales_value\"] < lower_bound) | (data[\"sales_value\"] > upper_bound)]"
   ]
  },
  {
   "cell_type": "code",
   "execution_count": 35,
   "metadata": {},
   "outputs": [
    {
     "name": "stdout",
     "output_type": "stream",
     "text": [
      "Number of outliers: 135\n"
     ]
    }
   ],
   "source": [
    "if len(outliers) > 0:\n",
    "    print(\"Number of outliers: {}\".format(len(outliers)))\n",
    "else:\n",
    "    print(\"No outliers found.\")\n",
    "\n",
    "# Now we have minimum sales value (866.0)\n",
    "# May be outlier due to typo errors or discount or wrong currency rate\n",
    "# Remark: For the time being, the currency is Thai Baht"
   ]
  },
  {
   "cell_type": "markdown",
   "metadata": {},
   "source": [
    "## RFM Model (Recency | Frequency | Monetary)"
   ]
  },
  {
   "cell_type": "code",
   "execution_count": 36,
   "metadata": {},
   "outputs": [
    {
     "data": {
      "text/plain": [
       "Timestamp('2024-12-24 00:00:00')"
      ]
     },
     "execution_count": 36,
     "metadata": {},
     "output_type": "execute_result"
    }
   ],
   "source": [
    "last_purchase_date = max(data[\"date\"])\n",
    "last_purchase_date"
   ]
  },
  {
   "cell_type": "code",
   "execution_count": 37,
   "metadata": {},
   "outputs": [
    {
     "data": {
      "text/plain": [
       "Timestamp('2024-01-08 00:00:00')"
      ]
     },
     "execution_count": 37,
     "metadata": {},
     "output_type": "execute_result"
    }
   ],
   "source": [
    "first_purchase_date = min(data[\"date\"])\n",
    "first_purchase_date"
   ]
  },
  {
   "cell_type": "code",
   "execution_count": 38,
   "metadata": {},
   "outputs": [
    {
     "data": {
      "text/plain": [
       "datetime.datetime(2024, 12, 25, 0, 0)"
      ]
     },
     "execution_count": 38,
     "metadata": {},
     "output_type": "execute_result"
    }
   ],
   "source": [
    "import datetime as dt\n",
    "checked_date = dt.datetime(2024, 12, 25)\n",
    "checked_date"
   ]
  },
  {
   "cell_type": "code",
   "execution_count": 39,
   "metadata": {},
   "outputs": [
    {
     "data": {
      "text/html": [
       "<div>\n",
       "<style scoped>\n",
       "    .dataframe tbody tr th:only-of-type {\n",
       "        vertical-align: middle;\n",
       "    }\n",
       "\n",
       "    .dataframe tbody tr th {\n",
       "        vertical-align: top;\n",
       "    }\n",
       "\n",
       "    .dataframe thead th {\n",
       "        text-align: right;\n",
       "    }\n",
       "</style>\n",
       "<table border=\"1\" class=\"dataframe\">\n",
       "  <thead>\n",
       "    <tr style=\"text-align: right;\">\n",
       "      <th></th>\n",
       "      <th>customer_code</th>\n",
       "      <th>date</th>\n",
       "      <th>order_no</th>\n",
       "      <th>sales_value</th>\n",
       "    </tr>\n",
       "  </thead>\n",
       "  <tbody>\n",
       "    <tr>\n",
       "      <th>0</th>\n",
       "      <td>A100000</td>\n",
       "      <td>5</td>\n",
       "      <td>1</td>\n",
       "      <td>400301.62</td>\n",
       "    </tr>\n",
       "    <tr>\n",
       "      <th>1</th>\n",
       "      <td>A101708</td>\n",
       "      <td>34</td>\n",
       "      <td>12</td>\n",
       "      <td>3365420.03</td>\n",
       "    </tr>\n",
       "    <tr>\n",
       "      <th>2</th>\n",
       "      <td>A107587</td>\n",
       "      <td>89</td>\n",
       "      <td>3</td>\n",
       "      <td>157854.92</td>\n",
       "    </tr>\n",
       "    <tr>\n",
       "      <th>3</th>\n",
       "      <td>A108766</td>\n",
       "      <td>19</td>\n",
       "      <td>4</td>\n",
       "      <td>122416.47</td>\n",
       "    </tr>\n",
       "    <tr>\n",
       "      <th>4</th>\n",
       "      <td>A109374</td>\n",
       "      <td>5</td>\n",
       "      <td>31</td>\n",
       "      <td>2486433.88</td>\n",
       "    </tr>\n",
       "    <tr>\n",
       "      <th>...</th>\n",
       "      <td>...</td>\n",
       "      <td>...</td>\n",
       "      <td>...</td>\n",
       "      <td>...</td>\n",
       "    </tr>\n",
       "    <tr>\n",
       "      <th>267</th>\n",
       "      <td>A151961</td>\n",
       "      <td>35</td>\n",
       "      <td>1</td>\n",
       "      <td>38324.00</td>\n",
       "    </tr>\n",
       "    <tr>\n",
       "      <th>268</th>\n",
       "      <td>A151962</td>\n",
       "      <td>35</td>\n",
       "      <td>1</td>\n",
       "      <td>91091.00</td>\n",
       "    </tr>\n",
       "    <tr>\n",
       "      <th>269</th>\n",
       "      <td>A151983</td>\n",
       "      <td>26</td>\n",
       "      <td>1</td>\n",
       "      <td>2408203.51</td>\n",
       "    </tr>\n",
       "    <tr>\n",
       "      <th>270</th>\n",
       "      <td>A152109</td>\n",
       "      <td>5</td>\n",
       "      <td>1</td>\n",
       "      <td>1459238.00</td>\n",
       "    </tr>\n",
       "    <tr>\n",
       "      <th>271</th>\n",
       "      <td>A203143</td>\n",
       "      <td>237</td>\n",
       "      <td>1</td>\n",
       "      <td>18219.22</td>\n",
       "    </tr>\n",
       "  </tbody>\n",
       "</table>\n",
       "<p>272 rows × 4 columns</p>\n",
       "</div>"
      ],
      "text/plain": [
       "    customer_code  date  order_no  sales_value\n",
       "0         A100000     5         1    400301.62\n",
       "1         A101708    34        12   3365420.03\n",
       "2         A107587    89         3    157854.92\n",
       "3         A108766    19         4    122416.47\n",
       "4         A109374     5        31   2486433.88\n",
       "..            ...   ...       ...          ...\n",
       "267       A151961    35         1     38324.00\n",
       "268       A151962    35         1     91091.00\n",
       "269       A151983    26         1   2408203.51\n",
       "270       A152109     5         1   1459238.00\n",
       "271       A203143   237         1     18219.22\n",
       "\n",
       "[272 rows x 4 columns]"
      ]
     },
     "execution_count": 39,
     "metadata": {},
     "output_type": "execute_result"
    }
   ],
   "source": [
    "RFM_Table = data.groupby(\"customer_code\").agg({\"date\": lambda x:(checked_date - x.max()).days,\"order_no\": lambda x: x.count(), \"sales_value\": lambda x: x.sum()}).reset_index()\n",
    "RFM_Table"
   ]
  },
  {
   "cell_type": "code",
   "execution_count": 41,
   "metadata": {},
   "outputs": [
    {
     "data": {
      "text/html": [
       "<div>\n",
       "<style scoped>\n",
       "    .dataframe tbody tr th:only-of-type {\n",
       "        vertical-align: middle;\n",
       "    }\n",
       "\n",
       "    .dataframe tbody tr th {\n",
       "        vertical-align: top;\n",
       "    }\n",
       "\n",
       "    .dataframe thead th {\n",
       "        text-align: right;\n",
       "    }\n",
       "</style>\n",
       "<table border=\"1\" class=\"dataframe\">\n",
       "  <thead>\n",
       "    <tr style=\"text-align: right;\">\n",
       "      <th></th>\n",
       "      <th>Customer Code</th>\n",
       "      <th>Recency</th>\n",
       "      <th>Frequency</th>\n",
       "      <th>Monetary</th>\n",
       "    </tr>\n",
       "  </thead>\n",
       "  <tbody>\n",
       "    <tr>\n",
       "      <th>0</th>\n",
       "      <td>A100000</td>\n",
       "      <td>5</td>\n",
       "      <td>1</td>\n",
       "      <td>400301.62</td>\n",
       "    </tr>\n",
       "    <tr>\n",
       "      <th>1</th>\n",
       "      <td>A101708</td>\n",
       "      <td>34</td>\n",
       "      <td>12</td>\n",
       "      <td>3365420.03</td>\n",
       "    </tr>\n",
       "    <tr>\n",
       "      <th>2</th>\n",
       "      <td>A107587</td>\n",
       "      <td>89</td>\n",
       "      <td>3</td>\n",
       "      <td>157854.92</td>\n",
       "    </tr>\n",
       "  </tbody>\n",
       "</table>\n",
       "</div>"
      ],
      "text/plain": [
       "  Customer Code  Recency  Frequency    Monetary\n",
       "0       A100000        5          1   400301.62\n",
       "1       A101708       34         12  3365420.03\n",
       "2       A107587       89          3   157854.92"
      ]
     },
     "execution_count": 41,
     "metadata": {},
     "output_type": "execute_result"
    }
   ],
   "source": [
    "RFM_Table = RFM_Table.rename(columns = {\"customer_code\": \"Customer Code\", \"date\": \"Recency\", \"order_no\": \"Frequency\", \"sales_value\": \"Monetary\"})\n",
    "RFM_Table.head(3)"
   ]
  },
  {
   "cell_type": "code",
   "execution_count": 42,
   "metadata": {},
   "outputs": [
    {
     "data": {
      "text/html": [
       "<div>\n",
       "<style scoped>\n",
       "    .dataframe tbody tr th:only-of-type {\n",
       "        vertical-align: middle;\n",
       "    }\n",
       "\n",
       "    .dataframe tbody tr th {\n",
       "        vertical-align: top;\n",
       "    }\n",
       "\n",
       "    .dataframe thead th {\n",
       "        text-align: right;\n",
       "    }\n",
       "</style>\n",
       "<table border=\"1\" class=\"dataframe\">\n",
       "  <thead>\n",
       "    <tr style=\"text-align: right;\">\n",
       "      <th></th>\n",
       "      <th>Customer Code</th>\n",
       "      <th>Recency</th>\n",
       "      <th>Frequency</th>\n",
       "      <th>Monetary</th>\n",
       "      <th>R_score</th>\n",
       "      <th>F_score</th>\n",
       "      <th>M_score</th>\n",
       "    </tr>\n",
       "  </thead>\n",
       "  <tbody>\n",
       "    <tr>\n",
       "      <th>0</th>\n",
       "      <td>A100000</td>\n",
       "      <td>5</td>\n",
       "      <td>1</td>\n",
       "      <td>400301.62</td>\n",
       "      <td>265.5</td>\n",
       "      <td>57.0</td>\n",
       "      <td>179.0</td>\n",
       "    </tr>\n",
       "    <tr>\n",
       "      <th>1</th>\n",
       "      <td>A101708</td>\n",
       "      <td>34</td>\n",
       "      <td>12</td>\n",
       "      <td>3365420.03</td>\n",
       "      <td>217.5</td>\n",
       "      <td>260.5</td>\n",
       "      <td>253.0</td>\n",
       "    </tr>\n",
       "    <tr>\n",
       "      <th>2</th>\n",
       "      <td>A107587</td>\n",
       "      <td>89</td>\n",
       "      <td>3</td>\n",
       "      <td>157854.92</td>\n",
       "      <td>140.5</td>\n",
       "      <td>184.0</td>\n",
       "      <td>133.0</td>\n",
       "    </tr>\n",
       "  </tbody>\n",
       "</table>\n",
       "</div>"
      ],
      "text/plain": [
       "  Customer Code  Recency  Frequency    Monetary  R_score  F_score  M_score\n",
       "0       A100000        5          1   400301.62    265.5     57.0    179.0\n",
       "1       A101708       34         12  3365420.03    217.5    260.5    253.0\n",
       "2       A107587       89          3   157854.92    140.5    184.0    133.0"
      ]
     },
     "execution_count": 42,
     "metadata": {},
     "output_type": "execute_result"
    }
   ],
   "source": [
    "RFM_Table[\"R_score\"] = RFM_Table[\"Recency\"].rank(ascending=False)\n",
    "RFM_Table[\"F_score\"] = RFM_Table[\"Frequency\"].rank(ascending=True)\n",
    "RFM_Table[\"M_score\"] = RFM_Table[\"Monetary\"].rank(ascending=True)\n",
    "\n",
    "RFM_Table.head(3)"
   ]
  },
  {
   "cell_type": "code",
   "execution_count": 43,
   "metadata": {},
   "outputs": [],
   "source": [
    "RFM = RFM_Table.copy()"
   ]
  },
  {
   "cell_type": "code",
   "execution_count": 46,
   "metadata": {},
   "outputs": [
    {
     "data": {
      "text/html": [
       "<div>\n",
       "<style scoped>\n",
       "    .dataframe tbody tr th:only-of-type {\n",
       "        vertical-align: middle;\n",
       "    }\n",
       "\n",
       "    .dataframe tbody tr th {\n",
       "        vertical-align: top;\n",
       "    }\n",
       "\n",
       "    .dataframe thead th {\n",
       "        text-align: right;\n",
       "    }\n",
       "</style>\n",
       "<table border=\"1\" class=\"dataframe\">\n",
       "  <thead>\n",
       "    <tr style=\"text-align: right;\">\n",
       "      <th></th>\n",
       "      <th>Customer Code</th>\n",
       "      <th>Recency</th>\n",
       "      <th>Frequency</th>\n",
       "      <th>Monetary</th>\n",
       "      <th>R_score</th>\n",
       "      <th>F_score</th>\n",
       "      <th>M_score</th>\n",
       "      <th>R</th>\n",
       "      <th>F</th>\n",
       "      <th>M</th>\n",
       "    </tr>\n",
       "  </thead>\n",
       "  <tbody>\n",
       "    <tr>\n",
       "      <th>0</th>\n",
       "      <td>A100000</td>\n",
       "      <td>5</td>\n",
       "      <td>1</td>\n",
       "      <td>400301.62</td>\n",
       "      <td>265.5</td>\n",
       "      <td>57.0</td>\n",
       "      <td>179.0</td>\n",
       "      <td>97.97</td>\n",
       "      <td>20.96</td>\n",
       "      <td>65.81</td>\n",
       "    </tr>\n",
       "    <tr>\n",
       "      <th>1</th>\n",
       "      <td>A101708</td>\n",
       "      <td>34</td>\n",
       "      <td>12</td>\n",
       "      <td>3365420.03</td>\n",
       "      <td>217.5</td>\n",
       "      <td>260.5</td>\n",
       "      <td>253.0</td>\n",
       "      <td>80.26</td>\n",
       "      <td>95.77</td>\n",
       "      <td>93.01</td>\n",
       "    </tr>\n",
       "    <tr>\n",
       "      <th>2</th>\n",
       "      <td>A107587</td>\n",
       "      <td>89</td>\n",
       "      <td>3</td>\n",
       "      <td>157854.92</td>\n",
       "      <td>140.5</td>\n",
       "      <td>184.0</td>\n",
       "      <td>133.0</td>\n",
       "      <td>51.85</td>\n",
       "      <td>67.65</td>\n",
       "      <td>48.90</td>\n",
       "    </tr>\n",
       "  </tbody>\n",
       "</table>\n",
       "</div>"
      ],
      "text/plain": [
       "  Customer Code  Recency  Frequency    Monetary  R_score  F_score  M_score  \\\n",
       "0       A100000        5          1   400301.62    265.5     57.0    179.0   \n",
       "1       A101708       34         12  3365420.03    217.5    260.5    253.0   \n",
       "2       A107587       89          3   157854.92    140.5    184.0    133.0   \n",
       "\n",
       "       R      F      M  \n",
       "0  97.97  20.96  65.81  \n",
       "1  80.26  95.77  93.01  \n",
       "2  51.85  67.65  48.90  "
      ]
     },
     "execution_count": 46,
     "metadata": {},
     "output_type": "execute_result"
    }
   ],
   "source": [
    "RFM[\"R\"] = (RFM[\"R_score\"]/RFM[\"R_score\"].max())*100\n",
    "RFM[\"F\"] = (RFM[\"F_score\"]/RFM[\"F_score\"].max())*100\n",
    "RFM[\"M\"] = (RFM[\"M_score\"]/RFM[\"M_score\"].max())*100\n",
    "\n",
    "RFM = RFM.round(2)\n",
    "RFM.head(3)"
   ]
  },
  {
   "cell_type": "code",
   "execution_count": 47,
   "metadata": {},
   "outputs": [
    {
     "data": {
      "text/html": [
       "<div>\n",
       "<style scoped>\n",
       "    .dataframe tbody tr th:only-of-type {\n",
       "        vertical-align: middle;\n",
       "    }\n",
       "\n",
       "    .dataframe tbody tr th {\n",
       "        vertical-align: top;\n",
       "    }\n",
       "\n",
       "    .dataframe thead th {\n",
       "        text-align: right;\n",
       "    }\n",
       "</style>\n",
       "<table border=\"1\" class=\"dataframe\">\n",
       "  <thead>\n",
       "    <tr style=\"text-align: right;\">\n",
       "      <th></th>\n",
       "      <th>Customer Code</th>\n",
       "      <th>Recency</th>\n",
       "      <th>Frequency</th>\n",
       "      <th>Monetary</th>\n",
       "      <th>R_score</th>\n",
       "      <th>F_score</th>\n",
       "      <th>M_score</th>\n",
       "      <th>R</th>\n",
       "      <th>F</th>\n",
       "      <th>M</th>\n",
       "      <th>RFM_Value</th>\n",
       "    </tr>\n",
       "  </thead>\n",
       "  <tbody>\n",
       "    <tr>\n",
       "      <th>0</th>\n",
       "      <td>A100000</td>\n",
       "      <td>5</td>\n",
       "      <td>1</td>\n",
       "      <td>400301.62</td>\n",
       "      <td>265.5</td>\n",
       "      <td>57.0</td>\n",
       "      <td>179.0</td>\n",
       "      <td>97.97</td>\n",
       "      <td>20.96</td>\n",
       "      <td>65.81</td>\n",
       "      <td>58.787</td>\n",
       "    </tr>\n",
       "    <tr>\n",
       "      <th>1</th>\n",
       "      <td>A101708</td>\n",
       "      <td>34</td>\n",
       "      <td>12</td>\n",
       "      <td>3365420.03</td>\n",
       "      <td>217.5</td>\n",
       "      <td>260.5</td>\n",
       "      <td>253.0</td>\n",
       "      <td>80.26</td>\n",
       "      <td>95.77</td>\n",
       "      <td>93.01</td>\n",
       "      <td>91.288</td>\n",
       "    </tr>\n",
       "    <tr>\n",
       "      <th>2</th>\n",
       "      <td>A107587</td>\n",
       "      <td>89</td>\n",
       "      <td>3</td>\n",
       "      <td>157854.92</td>\n",
       "      <td>140.5</td>\n",
       "      <td>184.0</td>\n",
       "      <td>133.0</td>\n",
       "      <td>51.85</td>\n",
       "      <td>67.65</td>\n",
       "      <td>48.90</td>\n",
       "      <td>55.115</td>\n",
       "    </tr>\n",
       "  </tbody>\n",
       "</table>\n",
       "</div>"
      ],
      "text/plain": [
       "  Customer Code  Recency  Frequency    Monetary  R_score  F_score  M_score  \\\n",
       "0       A100000        5          1   400301.62    265.5     57.0    179.0   \n",
       "1       A101708       34         12  3365420.03    217.5    260.5    253.0   \n",
       "2       A107587       89          3   157854.92    140.5    184.0    133.0   \n",
       "\n",
       "       R      F      M  RFM_Value  \n",
       "0  97.97  20.96  65.81     58.787  \n",
       "1  80.26  95.77  93.01     91.288  \n",
       "2  51.85  67.65  48.90     55.115  "
      ]
     },
     "execution_count": 47,
     "metadata": {},
     "output_type": "execute_result"
    }
   ],
   "source": [
    "RFM[\"RFM_Value\"] = 0.20 * RFM[\"R\"] + 0.30 * RFM[\"F\"] + 0.50 * RFM[\"M\"]\n",
    "RFM.head(3)"
   ]
  },
  {
   "cell_type": "code",
   "execution_count": 49,
   "metadata": {},
   "outputs": [
    {
     "data": {
      "text/plain": [
       "0.25    31.5910\n",
       "0.50    49.5935\n",
       "0.75    67.7710\n",
       "Name: RFM_Value, dtype: float64"
      ]
     },
     "execution_count": 49,
     "metadata": {},
     "output_type": "execute_result"
    }
   ],
   "source": [
    "q1 = RFM[\"RFM_Value\"].quantile(q = [0.25, 0.50, 0.75])\n",
    "q1"
   ]
  },
  {
   "cell_type": "code",
   "execution_count": 50,
   "metadata": {},
   "outputs": [
    {
     "data": {
      "text/plain": [
       "0.2    26.5216\n",
       "0.6    57.2764\n",
       "0.8    71.5642\n",
       "Name: RFM_Value, dtype: float64"
      ]
     },
     "execution_count": 50,
     "metadata": {},
     "output_type": "execute_result"
    }
   ],
   "source": [
    "q2 = RFM[\"RFM_Value\"].quantile(q = [0.20, 0.60, 0.80])\n",
    "q2"
   ]
  },
  {
   "cell_type": "code",
   "execution_count": 51,
   "metadata": {},
   "outputs": [
    {
     "data": {
      "text/plain": [
       "<Axes: xlabel='RFM_Value', ylabel='Proportion'>"
      ]
     },
     "execution_count": 51,
     "metadata": {},
     "output_type": "execute_result"
    },
    {
     "data": {
      "image/png": "[encoded data removed]",
      "text/plain": [
       "<Figure size 640x480 with 1 Axes>"
      ]
     },
     "metadata": {},
     "output_type": "display_data"
    }
   ],
   "source": [
    "sns.ecdfplot(data = RFM[\"RFM_Value\"])"
   ]
  },
  {
   "cell_type": "code",
   "execution_count": 54,
   "metadata": {},
   "outputs": [
    {
     "name": "stdout",
     "output_type": "stream",
     "text": [
      "Min RFM Value:  7.28\n",
      "Max RFM Value:  99.594\n"
     ]
    }
   ],
   "source": [
    "print(\"Min RFM Value: \", min(RFM[\"RFM_Value\"]))\n",
    "print(\"Max RFM Value: \", max(RFM[\"RFM_Value\"]))"
   ]
  },
  {
   "cell_type": "code",
   "execution_count": 56,
   "metadata": {},
   "outputs": [],
   "source": [
    "def cust_segment(x, quantile):\n",
    "\tif x <= quantile[0.25]:\n",
    "\t\treturn \"Silver\"\n",
    "\telif x <= quantile[0.50]: \n",
    "\t\treturn \"Gold\"\n",
    "\telif x <= quantile[0.75]:\n",
    "\t\treturn \"Diamond\"\n",
    "\telse:\n",
    "\t\treturn \"Platinum\""
   ]
  },
  {
   "cell_type": "code",
   "execution_count": 58,
   "metadata": {},
   "outputs": [
    {
     "data": {
      "text/html": [
       "<div>\n",
       "<style scoped>\n",
       "    .dataframe tbody tr th:only-of-type {\n",
       "        vertical-align: middle;\n",
       "    }\n",
       "\n",
       "    .dataframe tbody tr th {\n",
       "        vertical-align: top;\n",
       "    }\n",
       "\n",
       "    .dataframe thead th {\n",
       "        text-align: right;\n",
       "    }\n",
       "</style>\n",
       "<table border=\"1\" class=\"dataframe\">\n",
       "  <thead>\n",
       "    <tr style=\"text-align: right;\">\n",
       "      <th></th>\n",
       "      <th>Customer Code</th>\n",
       "      <th>Recency</th>\n",
       "      <th>Frequency</th>\n",
       "      <th>Monetary</th>\n",
       "      <th>R_score</th>\n",
       "      <th>F_score</th>\n",
       "      <th>M_score</th>\n",
       "      <th>R</th>\n",
       "      <th>F</th>\n",
       "      <th>M</th>\n",
       "      <th>RFM_Value</th>\n",
       "      <th>Loyality</th>\n",
       "    </tr>\n",
       "  </thead>\n",
       "  <tbody>\n",
       "    <tr>\n",
       "      <th>267</th>\n",
       "      <td>A151961</td>\n",
       "      <td>35</td>\n",
       "      <td>1</td>\n",
       "      <td>38324.00</td>\n",
       "      <td>214.5</td>\n",
       "      <td>57.0</td>\n",
       "      <td>64.0</td>\n",
       "      <td>79.15</td>\n",
       "      <td>20.96</td>\n",
       "      <td>23.53</td>\n",
       "      <td>33.883</td>\n",
       "      <td>Gold</td>\n",
       "    </tr>\n",
       "    <tr>\n",
       "      <th>268</th>\n",
       "      <td>A151962</td>\n",
       "      <td>35</td>\n",
       "      <td>1</td>\n",
       "      <td>91091.00</td>\n",
       "      <td>214.5</td>\n",
       "      <td>57.0</td>\n",
       "      <td>111.0</td>\n",
       "      <td>79.15</td>\n",
       "      <td>20.96</td>\n",
       "      <td>40.81</td>\n",
       "      <td>42.523</td>\n",
       "      <td>Gold</td>\n",
       "    </tr>\n",
       "    <tr>\n",
       "      <th>269</th>\n",
       "      <td>A151983</td>\n",
       "      <td>26</td>\n",
       "      <td>1</td>\n",
       "      <td>2408203.51</td>\n",
       "      <td>233.0</td>\n",
       "      <td>57.0</td>\n",
       "      <td>245.0</td>\n",
       "      <td>85.98</td>\n",
       "      <td>20.96</td>\n",
       "      <td>90.07</td>\n",
       "      <td>68.519</td>\n",
       "      <td>Platinum</td>\n",
       "    </tr>\n",
       "    <tr>\n",
       "      <th>270</th>\n",
       "      <td>A152109</td>\n",
       "      <td>5</td>\n",
       "      <td>1</td>\n",
       "      <td>1459238.00</td>\n",
       "      <td>265.5</td>\n",
       "      <td>57.0</td>\n",
       "      <td>228.0</td>\n",
       "      <td>97.97</td>\n",
       "      <td>20.96</td>\n",
       "      <td>83.82</td>\n",
       "      <td>67.792</td>\n",
       "      <td>Platinum</td>\n",
       "    </tr>\n",
       "    <tr>\n",
       "      <th>271</th>\n",
       "      <td>A203143</td>\n",
       "      <td>237</td>\n",
       "      <td>1</td>\n",
       "      <td>18219.22</td>\n",
       "      <td>39.0</td>\n",
       "      <td>57.0</td>\n",
       "      <td>30.0</td>\n",
       "      <td>14.39</td>\n",
       "      <td>20.96</td>\n",
       "      <td>11.03</td>\n",
       "      <td>14.681</td>\n",
       "      <td>Silver</td>\n",
       "    </tr>\n",
       "  </tbody>\n",
       "</table>\n",
       "</div>"
      ],
      "text/plain": [
       "    Customer Code  Recency  Frequency    Monetary  R_score  F_score  M_score  \\\n",
       "267       A151961       35          1    38324.00    214.5     57.0     64.0   \n",
       "268       A151962       35          1    91091.00    214.5     57.0    111.0   \n",
       "269       A151983       26          1  2408203.51    233.0     57.0    245.0   \n",
       "270       A152109        5          1  1459238.00    265.5     57.0    228.0   \n",
       "271       A203143      237          1    18219.22     39.0     57.0     30.0   \n",
       "\n",
       "         R      F      M  RFM_Value  Loyality  \n",
       "267  79.15  20.96  23.53     33.883      Gold  \n",
       "268  79.15  20.96  40.81     42.523      Gold  \n",
       "269  85.98  20.96  90.07     68.519  Platinum  \n",
       "270  97.97  20.96  83.82     67.792  Platinum  \n",
       "271  14.39  20.96  11.03     14.681    Silver  "
      ]
     },
     "execution_count": 58,
     "metadata": {},
     "output_type": "execute_result"
    }
   ],
   "source": [
    "RFM[\"Loyality\"] = RFM[\"RFM_Value\"].apply(lambda x: cust_segment(x, q1))\n",
    "RFM.tail(5)"
   ]
  },
  {
   "cell_type": "code",
   "execution_count": 60,
   "metadata": {},
   "outputs": [
    {
     "data": {
      "text/plain": [
       "Diamond     68\n",
       "Platinum    68\n",
       "Silver      68\n",
       "Gold        68\n",
       "Name: Loyality, dtype: int64"
      ]
     },
     "execution_count": 60,
     "metadata": {},
     "output_type": "execute_result"
    }
   ],
   "source": [
    "RFM[\"Loyality\"].value_counts().sort_values(ascending=True)"
   ]
  },
  {
   "cell_type": "markdown",
   "metadata": {},
   "source": [
    "## K-Means Clustering"
   ]
  },
  {
   "cell_type": "code",
   "execution_count": 93,
   "metadata": {},
   "outputs": [
    {
     "data": {
      "text/html": [
       "<div>\n",
       "<style scoped>\n",
       "    .dataframe tbody tr th:only-of-type {\n",
       "        vertical-align: middle;\n",
       "    }\n",
       "\n",
       "    .dataframe tbody tr th {\n",
       "        vertical-align: top;\n",
       "    }\n",
       "\n",
       "    .dataframe thead th {\n",
       "        text-align: right;\n",
       "    }\n",
       "</style>\n",
       "<table border=\"1\" class=\"dataframe\">\n",
       "  <thead>\n",
       "    <tr style=\"text-align: right;\">\n",
       "      <th></th>\n",
       "      <th>RFM_Value</th>\n",
       "    </tr>\n",
       "  </thead>\n",
       "  <tbody>\n",
       "    <tr>\n",
       "      <th>0</th>\n",
       "      <td>58.787</td>\n",
       "    </tr>\n",
       "    <tr>\n",
       "      <th>1</th>\n",
       "      <td>91.288</td>\n",
       "    </tr>\n",
       "    <tr>\n",
       "      <th>2</th>\n",
       "      <td>55.115</td>\n",
       "    </tr>\n",
       "  </tbody>\n",
       "</table>\n",
       "</div>"
      ],
      "text/plain": [
       "   RFM_Value\n",
       "0     58.787\n",
       "1     91.288\n",
       "2     55.115"
      ]
     },
     "execution_count": 93,
     "metadata": {},
     "output_type": "execute_result"
    }
   ],
   "source": [
    "new_data = RFM[\"RFM_Value\"]\n",
    "new_data = pd.DataFrame(new_data)\n",
    "new_data.head(3)"
   ]
  },
  {
   "cell_type": "markdown",
   "metadata": {},
   "source": [
    "### Method 1: Elbow Method"
   ]
  },
  {
   "cell_type": "code",
   "execution_count": 64,
   "metadata": {},
   "outputs": [],
   "source": [
    "from sklearn.cluster import KMeans\n",
    "from sklearn.datasets import make_blobs"
   ]
  },
  {
   "cell_type": "code",
   "execution_count": 65,
   "metadata": {},
   "outputs": [
    {
     "name": "stderr",
     "output_type": "stream",
     "text": [
      "c:\\Users\\DELL\\AppData\\Local\\Programs\\Python\\Python311\\Lib\\site-packages\\sklearn\\cluster\\_kmeans.py:1412: FutureWarning: The default value of `n_init` will change from 10 to 'auto' in 1.4. Set the value of `n_init` explicitly to suppress the warning\n",
      "  super()._check_params_vs_input(X, default_n_init=10)\n",
      "c:\\Users\\DELL\\AppData\\Local\\Programs\\Python\\Python311\\Lib\\site-packages\\sklearn\\cluster\\_kmeans.py:1412: FutureWarning: The default value of `n_init` will change from 10 to 'auto' in 1.4. Set the value of `n_init` explicitly to suppress the warning\n",
      "  super()._check_params_vs_input(X, default_n_init=10)\n",
      "c:\\Users\\DELL\\AppData\\Local\\Programs\\Python\\Python311\\Lib\\site-packages\\sklearn\\cluster\\_kmeans.py:1412: FutureWarning: The default value of `n_init` will change from 10 to 'auto' in 1.4. Set the value of `n_init` explicitly to suppress the warning\n",
      "  super()._check_params_vs_input(X, default_n_init=10)\n",
      "c:\\Users\\DELL\\AppData\\Local\\Programs\\Python\\Python311\\Lib\\site-packages\\sklearn\\cluster\\_kmeans.py:1412: FutureWarning: The default value of `n_init` will change from 10 to 'auto' in 1.4. Set the value of `n_init` explicitly to suppress the warning\n",
      "  super()._check_params_vs_input(X, default_n_init=10)\n",
      "c:\\Users\\DELL\\AppData\\Local\\Programs\\Python\\Python311\\Lib\\site-packages\\sklearn\\cluster\\_kmeans.py:1412: FutureWarning: The default value of `n_init` will change from 10 to 'auto' in 1.4. Set the value of `n_init` explicitly to suppress the warning\n",
      "  super()._check_params_vs_input(X, default_n_init=10)\n",
      "c:\\Users\\DELL\\AppData\\Local\\Programs\\Python\\Python311\\Lib\\site-packages\\sklearn\\cluster\\_kmeans.py:1412: FutureWarning: The default value of `n_init` will change from 10 to 'auto' in 1.4. Set the value of `n_init` explicitly to suppress the warning\n",
      "  super()._check_params_vs_input(X, default_n_init=10)\n",
      "c:\\Users\\DELL\\AppData\\Local\\Programs\\Python\\Python311\\Lib\\site-packages\\sklearn\\cluster\\_kmeans.py:1412: FutureWarning: The default value of `n_init` will change from 10 to 'auto' in 1.4. Set the value of `n_init` explicitly to suppress the warning\n",
      "  super()._check_params_vs_input(X, default_n_init=10)\n",
      "c:\\Users\\DELL\\AppData\\Local\\Programs\\Python\\Python311\\Lib\\site-packages\\sklearn\\cluster\\_kmeans.py:1412: FutureWarning: The default value of `n_init` will change from 10 to 'auto' in 1.4. Set the value of `n_init` explicitly to suppress the warning\n",
      "  super()._check_params_vs_input(X, default_n_init=10)\n",
      "c:\\Users\\DELL\\AppData\\Local\\Programs\\Python\\Python311\\Lib\\site-packages\\sklearn\\cluster\\_kmeans.py:1412: FutureWarning: The default value of `n_init` will change from 10 to 'auto' in 1.4. Set the value of `n_init` explicitly to suppress the warning\n",
      "  super()._check_params_vs_input(X, default_n_init=10)\n"
     ]
    }
   ],
   "source": [
    "n_clusters = range(2, 11)\n",
    "inertia_values = []\n",
    "\n",
    "for n in n_clusters:\n",
    "    kmeans = KMeans(n_clusters=n, random_state=42)\n",
    "    kmeans.fit(new_data)\n",
    "    inertia_values.append(kmeans.inertia_)"
   ]
  },
  {
   "cell_type": "code",
   "execution_count": null,
   "metadata": {},
   "outputs": [
    {
     "data": {
      "image/png": "[encoded data removed]",
      "text/plain": [
       "<Figure size 1000x500 with 1 Axes>"
      ]
     },
     "metadata": {},
     "output_type": "display_data"
    }
   ],
   "source": [
    "plt.figure(figsize=(10, 5))\n",
    "plt.plot(n_clusters, inertia_values, marker = '*')\n",
    "plt.title(\"Elbow Method for Optimal Number of Clusters\")\n",
    "plt.xlabel(\"Number of Clusters\")\n",
    "plt.ylabel(\"Inertia\")\n",
    "plt.grid(True)\n",
    "plt.show()\n",
    "\n",
    "# The optimal number of clusters would be 4."
   ]
  },
  {
   "cell_type": "markdown",
   "metadata": {},
   "source": [
    "### Method 2: Silhouette Method"
   ]
  },
  {
   "cell_type": "code",
   "execution_count": 94,
   "metadata": {},
   "outputs": [],
   "source": [
    "from sklearn.metrics import silhouette_score"
   ]
  },
  {
   "cell_type": "code",
   "execution_count": 95,
   "metadata": {},
   "outputs": [
    {
     "name": "stderr",
     "output_type": "stream",
     "text": [
      "c:\\Users\\DELL\\AppData\\Local\\Programs\\Python\\Python311\\Lib\\site-packages\\sklearn\\cluster\\_kmeans.py:1412: FutureWarning: The default value of `n_init` will change from 10 to 'auto' in 1.4. Set the value of `n_init` explicitly to suppress the warning\n",
      "  super()._check_params_vs_input(X, default_n_init=10)\n",
      "c:\\Users\\DELL\\AppData\\Local\\Programs\\Python\\Python311\\Lib\\site-packages\\sklearn\\cluster\\_kmeans.py:1412: FutureWarning: The default value of `n_init` will change from 10 to 'auto' in 1.4. Set the value of `n_init` explicitly to suppress the warning\n",
      "  super()._check_params_vs_input(X, default_n_init=10)\n",
      "c:\\Users\\DELL\\AppData\\Local\\Programs\\Python\\Python311\\Lib\\site-packages\\sklearn\\cluster\\_kmeans.py:1412: FutureWarning: The default value of `n_init` will change from 10 to 'auto' in 1.4. Set the value of `n_init` explicitly to suppress the warning\n",
      "  super()._check_params_vs_input(X, default_n_init=10)\n",
      "c:\\Users\\DELL\\AppData\\Local\\Programs\\Python\\Python311\\Lib\\site-packages\\sklearn\\cluster\\_kmeans.py:1412: FutureWarning: The default value of `n_init` will change from 10 to 'auto' in 1.4. Set the value of `n_init` explicitly to suppress the warning\n",
      "  super()._check_params_vs_input(X, default_n_init=10)\n",
      "c:\\Users\\DELL\\AppData\\Local\\Programs\\Python\\Python311\\Lib\\site-packages\\sklearn\\cluster\\_kmeans.py:1412: FutureWarning: The default value of `n_init` will change from 10 to 'auto' in 1.4. Set the value of `n_init` explicitly to suppress the warning\n",
      "  super()._check_params_vs_input(X, default_n_init=10)\n",
      "c:\\Users\\DELL\\AppData\\Local\\Programs\\Python\\Python311\\Lib\\site-packages\\sklearn\\cluster\\_kmeans.py:1412: FutureWarning: The default value of `n_init` will change from 10 to 'auto' in 1.4. Set the value of `n_init` explicitly to suppress the warning\n",
      "  super()._check_params_vs_input(X, default_n_init=10)\n",
      "c:\\Users\\DELL\\AppData\\Local\\Programs\\Python\\Python311\\Lib\\site-packages\\sklearn\\cluster\\_kmeans.py:1412: FutureWarning: The default value of `n_init` will change from 10 to 'auto' in 1.4. Set the value of `n_init` explicitly to suppress the warning\n",
      "  super()._check_params_vs_input(X, default_n_init=10)\n",
      "c:\\Users\\DELL\\AppData\\Local\\Programs\\Python\\Python311\\Lib\\site-packages\\sklearn\\cluster\\_kmeans.py:1412: FutureWarning: The default value of `n_init` will change from 10 to 'auto' in 1.4. Set the value of `n_init` explicitly to suppress the warning\n",
      "  super()._check_params_vs_input(X, default_n_init=10)\n",
      "c:\\Users\\DELL\\AppData\\Local\\Programs\\Python\\Python311\\Lib\\site-packages\\sklearn\\cluster\\_kmeans.py:1412: FutureWarning: The default value of `n_init` will change from 10 to 'auto' in 1.4. Set the value of `n_init` explicitly to suppress the warning\n",
      "  super()._check_params_vs_input(X, default_n_init=10)\n"
     ]
    }
   ],
   "source": [
    "n_clusters = range(2, 11)\n",
    "silhouette_scores = []\n",
    "\n",
    "for n in n_clusters:\n",
    "    kmeans = KMeans(n_clusters = n, random_state = 42)\n",
    "    cluster_labels = kmeans.fit_predict(new_data)\n",
    "    silhouette_avg = silhouette_score(new_data, cluster_labels)\n",
    "    silhouette_scores.append(silhouette_avg)"
   ]
  },
  {
   "cell_type": "code",
   "execution_count": null,
   "metadata": {},
   "outputs": [
    {
     "data": {
      "image/png": "[encoded data removed]",
      "text/plain": [
       "<Figure size 1000x500 with 1 Axes>"
      ]
     },
     "metadata": {},
     "output_type": "display_data"
    }
   ],
   "source": [
    "plt.figure(figsize = (10, 5))\n",
    "plt.plot(n_clusters, silhouette_scores, marker = '*')\n",
    "plt.title(\"Silhouette Method for Optimal Number of Clusters\")\n",
    "plt.xlabel(\"Number of Clusters\")\n",
    "plt.ylabel(\"Silhouette Score\")\n",
    "plt.grid(True)\n",
    "plt.show()\n",
    "\n",
    "# The silhouette score is highest when the number of clusters is 4."
   ]
  },
  {
   "cell_type": "markdown",
   "metadata": {},
   "source": [
    "### Applying Cluster"
   ]
  },
  {
   "cell_type": "code",
   "execution_count": 97,
   "metadata": {},
   "outputs": [
    {
     "name": "stderr",
     "output_type": "stream",
     "text": [
      "c:\\Users\\DELL\\AppData\\Local\\Programs\\Python\\Python311\\Lib\\site-packages\\sklearn\\cluster\\_kmeans.py:1412: FutureWarning: The default value of `n_init` will change from 10 to 'auto' in 1.4. Set the value of `n_init` explicitly to suppress the warning\n",
      "  super()._check_params_vs_input(X, default_n_init=10)\n"
     ]
    },
    {
     "data": {
      "text/plain": [
       "array([3, 0, 3, 3, 0, 3, 2, 0, 0, 1, 1, 1, 1, 2, 3, 2, 1, 1, 1, 2, 2, 0,\n",
       "       0, 0, 0, 2, 2, 2, 3, 0, 1, 1, 3, 0, 3, 0, 3, 3, 3, 1, 3, 2, 0, 0,\n",
       "       2, 0, 1, 0, 1, 2, 1, 3, 0, 2, 2, 3, 2, 1, 1, 3, 1, 3, 1, 2, 2, 0,\n",
       "       2, 2, 0, 1, 2, 0, 3, 1, 3, 1, 0, 0, 2, 3, 3, 2, 2, 2, 2, 0, 3, 1,\n",
       "       3, 1, 2, 3, 1, 3, 0, 0, 2, 1, 1, 0, 1, 3, 3, 2, 3, 3, 2, 0, 2, 1,\n",
       "       1, 1, 1, 3, 2, 1, 0, 2, 1, 1, 3, 3, 3, 2, 3, 2, 3, 1, 0, 1, 2, 3,\n",
       "       1, 1, 1, 3, 1, 3, 0, 1, 1, 1, 2, 1, 1, 1, 2, 0, 1, 3, 0, 2, 1, 3,\n",
       "       2, 0, 2, 2, 1, 3, 2, 2, 1, 1, 1, 2, 1, 1, 3, 2, 0, 3, 2, 3, 0, 2,\n",
       "       1, 3, 1, 2, 1, 1, 2, 1, 1, 2, 0, 1, 0, 2, 0, 2, 3, 2, 3, 2, 0, 3,\n",
       "       2, 1, 1, 2, 2, 3, 3, 0, 1, 1, 3, 1, 3, 0, 2, 1, 2, 0, 1, 2, 3, 0,\n",
       "       2, 0, 3, 3, 3, 2, 3, 1, 3, 0, 2, 1, 2, 1, 1, 3, 0, 1, 3, 2, 3, 2,\n",
       "       2, 3, 3, 2, 1, 1, 2, 0, 3, 1, 1, 2, 1, 0, 2, 3, 1, 3, 2, 3, 3, 1,\n",
       "       3, 3, 0, 1, 1, 3, 3, 2])"
      ]
     },
     "execution_count": 97,
     "metadata": {},
     "output_type": "execute_result"
    }
   ],
   "source": [
    "kmeans_cluster = KMeans(max_iter = 200, random_state = 100, n_clusters = 4)\n",
    "y_means = kmeans_cluster.fit_predict(new_data)\n",
    "y_means"
   ]
  },
  {
   "cell_type": "code",
   "execution_count": 100,
   "metadata": {},
   "outputs": [
    {
     "data": {
      "text/html": [
       "<div>\n",
       "<style scoped>\n",
       "    .dataframe tbody tr th:only-of-type {\n",
       "        vertical-align: middle;\n",
       "    }\n",
       "\n",
       "    .dataframe tbody tr th {\n",
       "        vertical-align: top;\n",
       "    }\n",
       "\n",
       "    .dataframe thead th {\n",
       "        text-align: right;\n",
       "    }\n",
       "</style>\n",
       "<table border=\"1\" class=\"dataframe\">\n",
       "  <thead>\n",
       "    <tr style=\"text-align: right;\">\n",
       "      <th></th>\n",
       "      <th>Customer Code</th>\n",
       "      <th>Recency</th>\n",
       "      <th>Frequency</th>\n",
       "      <th>Monetary</th>\n",
       "      <th>R_score</th>\n",
       "      <th>F_score</th>\n",
       "      <th>M_score</th>\n",
       "      <th>R</th>\n",
       "      <th>F</th>\n",
       "      <th>M</th>\n",
       "      <th>RFM_Value</th>\n",
       "      <th>Loyality</th>\n",
       "      <th>Cluster</th>\n",
       "    </tr>\n",
       "  </thead>\n",
       "  <tbody>\n",
       "    <tr>\n",
       "      <th>267</th>\n",
       "      <td>A151961</td>\n",
       "      <td>35</td>\n",
       "      <td>1</td>\n",
       "      <td>38324.00</td>\n",
       "      <td>214.5</td>\n",
       "      <td>57.0</td>\n",
       "      <td>64.0</td>\n",
       "      <td>79.15</td>\n",
       "      <td>20.96</td>\n",
       "      <td>23.53</td>\n",
       "      <td>33.883</td>\n",
       "      <td>Gold</td>\n",
       "      <td>1</td>\n",
       "    </tr>\n",
       "    <tr>\n",
       "      <th>268</th>\n",
       "      <td>A151962</td>\n",
       "      <td>35</td>\n",
       "      <td>1</td>\n",
       "      <td>91091.00</td>\n",
       "      <td>214.5</td>\n",
       "      <td>57.0</td>\n",
       "      <td>111.0</td>\n",
       "      <td>79.15</td>\n",
       "      <td>20.96</td>\n",
       "      <td>40.81</td>\n",
       "      <td>42.523</td>\n",
       "      <td>Gold</td>\n",
       "      <td>1</td>\n",
       "    </tr>\n",
       "    <tr>\n",
       "      <th>269</th>\n",
       "      <td>A151983</td>\n",
       "      <td>26</td>\n",
       "      <td>1</td>\n",
       "      <td>2408203.51</td>\n",
       "      <td>233.0</td>\n",
       "      <td>57.0</td>\n",
       "      <td>245.0</td>\n",
       "      <td>85.98</td>\n",
       "      <td>20.96</td>\n",
       "      <td>90.07</td>\n",
       "      <td>68.519</td>\n",
       "      <td>Platinum</td>\n",
       "      <td>3</td>\n",
       "    </tr>\n",
       "    <tr>\n",
       "      <th>270</th>\n",
       "      <td>A152109</td>\n",
       "      <td>5</td>\n",
       "      <td>1</td>\n",
       "      <td>1459238.00</td>\n",
       "      <td>265.5</td>\n",
       "      <td>57.0</td>\n",
       "      <td>228.0</td>\n",
       "      <td>97.97</td>\n",
       "      <td>20.96</td>\n",
       "      <td>83.82</td>\n",
       "      <td>67.792</td>\n",
       "      <td>Platinum</td>\n",
       "      <td>3</td>\n",
       "    </tr>\n",
       "    <tr>\n",
       "      <th>271</th>\n",
       "      <td>A203143</td>\n",
       "      <td>237</td>\n",
       "      <td>1</td>\n",
       "      <td>18219.22</td>\n",
       "      <td>39.0</td>\n",
       "      <td>57.0</td>\n",
       "      <td>30.0</td>\n",
       "      <td>14.39</td>\n",
       "      <td>20.96</td>\n",
       "      <td>11.03</td>\n",
       "      <td>14.681</td>\n",
       "      <td>Silver</td>\n",
       "      <td>2</td>\n",
       "    </tr>\n",
       "  </tbody>\n",
       "</table>\n",
       "</div>"
      ],
      "text/plain": [
       "    Customer Code  Recency  Frequency    Monetary  R_score  F_score  M_score  \\\n",
       "267       A151961       35          1    38324.00    214.5     57.0     64.0   \n",
       "268       A151962       35          1    91091.00    214.5     57.0    111.0   \n",
       "269       A151983       26          1  2408203.51    233.0     57.0    245.0   \n",
       "270       A152109        5          1  1459238.00    265.5     57.0    228.0   \n",
       "271       A203143      237          1    18219.22     39.0     57.0     30.0   \n",
       "\n",
       "         R      F      M  RFM_Value  Loyality  Cluster  \n",
       "267  79.15  20.96  23.53     33.883      Gold        1  \n",
       "268  79.15  20.96  40.81     42.523      Gold        1  \n",
       "269  85.98  20.96  90.07     68.519  Platinum        3  \n",
       "270  97.97  20.96  83.82     67.792  Platinum        3  \n",
       "271  14.39  20.96  11.03     14.681    Silver        2  "
      ]
     },
     "execution_count": 100,
     "metadata": {},
     "output_type": "execute_result"
    }
   ],
   "source": [
    "RFM[\"Cluster\"] = kmeans_cluster.labels_\n",
    "RFM.tail(5)"
   ]
  },
  {
   "cell_type": "code",
   "execution_count": 99,
   "metadata": {},
   "outputs": [
    {
     "data": {
      "text/plain": [
       "1    81\n",
       "2    72\n",
       "3    71\n",
       "0    48\n",
       "Name: Cluster, dtype: int64"
      ]
     },
     "execution_count": 99,
     "metadata": {},
     "output_type": "execute_result"
    }
   ],
   "source": [
    "RFM[\"Cluster\"].value_counts()"
   ]
  },
  {
   "cell_type": "code",
   "execution_count": null,
   "metadata": {},
   "outputs": [
    {
     "data": {
      "text/plain": [
       "0.5875328841994448"
      ]
     },
     "execution_count": 101,
     "metadata": {},
     "output_type": "execute_result"
    }
   ],
   "source": [
    "labels = kmeans_cluster.labels_\n",
    "silhouette_score(new_data, labels)\n",
    "\n",
    "# The silhouette score range is from -1 to +1, the result (0.5875328841994448) indicates moderate clustering quality. (Not too good - Not too bad)"
   ]
  },
  {
   "cell_type": "markdown",
   "metadata": {},
   "source": [
    "## Finding Customer Lifetime Value (CLTV)\n",
    "\n",
    "How much a customer is expected to contribute in revenue over their lifespan as a customer."
   ]
  },
  {
   "cell_type": "code",
   "execution_count": 122,
   "metadata": {},
   "outputs": [],
   "source": [
    "CLTV_Table = RFM_Table.copy()"
   ]
  },
  {
   "cell_type": "code",
   "execution_count": 123,
   "metadata": {},
   "outputs": [
    {
     "data": {
      "text/html": [
       "<div>\n",
       "<style scoped>\n",
       "    .dataframe tbody tr th:only-of-type {\n",
       "        vertical-align: middle;\n",
       "    }\n",
       "\n",
       "    .dataframe tbody tr th {\n",
       "        vertical-align: top;\n",
       "    }\n",
       "\n",
       "    .dataframe thead th {\n",
       "        text-align: right;\n",
       "    }\n",
       "</style>\n",
       "<table border=\"1\" class=\"dataframe\">\n",
       "  <thead>\n",
       "    <tr style=\"text-align: right;\">\n",
       "      <th></th>\n",
       "      <th>Customer Code</th>\n",
       "      <th>Recency</th>\n",
       "      <th>Frequency</th>\n",
       "      <th>Monetary</th>\n",
       "      <th>R_score</th>\n",
       "      <th>F_score</th>\n",
       "      <th>M_score</th>\n",
       "      <th>Avg_order_value</th>\n",
       "    </tr>\n",
       "  </thead>\n",
       "  <tbody>\n",
       "    <tr>\n",
       "      <th>0</th>\n",
       "      <td>A100000</td>\n",
       "      <td>5</td>\n",
       "      <td>1</td>\n",
       "      <td>400301.62</td>\n",
       "      <td>265.5</td>\n",
       "      <td>57.0</td>\n",
       "      <td>179.0</td>\n",
       "      <td>400301.620000</td>\n",
       "    </tr>\n",
       "    <tr>\n",
       "      <th>1</th>\n",
       "      <td>A101708</td>\n",
       "      <td>34</td>\n",
       "      <td>12</td>\n",
       "      <td>3365420.03</td>\n",
       "      <td>217.5</td>\n",
       "      <td>260.5</td>\n",
       "      <td>253.0</td>\n",
       "      <td>280451.669167</td>\n",
       "    </tr>\n",
       "    <tr>\n",
       "      <th>2</th>\n",
       "      <td>A107587</td>\n",
       "      <td>89</td>\n",
       "      <td>3</td>\n",
       "      <td>157854.92</td>\n",
       "      <td>140.5</td>\n",
       "      <td>184.0</td>\n",
       "      <td>133.0</td>\n",
       "      <td>52618.306667</td>\n",
       "    </tr>\n",
       "  </tbody>\n",
       "</table>\n",
       "</div>"
      ],
      "text/plain": [
       "  Customer Code  Recency  Frequency    Monetary  R_score  F_score  M_score  \\\n",
       "0       A100000        5          1   400301.62    265.5     57.0    179.0   \n",
       "1       A101708       34         12  3365420.03    217.5    260.5    253.0   \n",
       "2       A107587       89          3   157854.92    140.5    184.0    133.0   \n",
       "\n",
       "   Avg_order_value  \n",
       "0    400301.620000  \n",
       "1    280451.669167  \n",
       "2     52618.306667  "
      ]
     },
     "execution_count": 123,
     "metadata": {},
     "output_type": "execute_result"
    }
   ],
   "source": [
    "CLTV_Table[\"Avg_order_value\"] = CLTV_Table[\"Monetary\"]/CLTV_Table[\"Frequency\"]\n",
    "CLTV_Table.head(3)"
   ]
  },
  {
   "cell_type": "code",
   "execution_count": 124,
   "metadata": {},
   "outputs": [
    {
     "data": {
      "text/plain": [
       "3.7205882352941178"
      ]
     },
     "execution_count": 124,
     "metadata": {},
     "output_type": "execute_result"
    }
   ],
   "source": [
    "purchase_frequency = sum(CLTV_Table[\"Frequency\"])/CLTV_Table.shape[0]\n",
    "purchase_frequency"
   ]
  },
  {
   "cell_type": "code",
   "execution_count": 125,
   "metadata": {},
   "outputs": [
    {
     "data": {
      "text/plain": [
       "0.5845588235294118"
      ]
     },
     "execution_count": 125,
     "metadata": {},
     "output_type": "execute_result"
    }
   ],
   "source": [
    "return_rate = CLTV_Table[CLTV_Table[\"Frequency\"] > 1].shape[0]/CLTV_Table.shape[0]\n",
    "return_rate"
   ]
  },
  {
   "cell_type": "code",
   "execution_count": 126,
   "metadata": {},
   "outputs": [
    {
     "data": {
      "text/plain": [
       "0.4154411764705882"
      ]
     },
     "execution_count": 126,
     "metadata": {},
     "output_type": "execute_result"
    }
   ],
   "source": [
    "churn_rate = 1 - return_rate\n",
    "churn_rate"
   ]
  },
  {
   "cell_type": "code",
   "execution_count": 127,
   "metadata": {},
   "outputs": [
    {
     "data": {
      "text/html": [
       "<div>\n",
       "<style scoped>\n",
       "    .dataframe tbody tr th:only-of-type {\n",
       "        vertical-align: middle;\n",
       "    }\n",
       "\n",
       "    .dataframe tbody tr th {\n",
       "        vertical-align: top;\n",
       "    }\n",
       "\n",
       "    .dataframe thead th {\n",
       "        text-align: right;\n",
       "    }\n",
       "</style>\n",
       "<table border=\"1\" class=\"dataframe\">\n",
       "  <thead>\n",
       "    <tr style=\"text-align: right;\">\n",
       "      <th></th>\n",
       "      <th>Customer Code</th>\n",
       "      <th>Recency</th>\n",
       "      <th>Frequency</th>\n",
       "      <th>Monetary</th>\n",
       "      <th>R_score</th>\n",
       "      <th>F_score</th>\n",
       "      <th>M_score</th>\n",
       "      <th>Avg_order_value</th>\n",
       "      <th>Profit_margin</th>\n",
       "    </tr>\n",
       "  </thead>\n",
       "  <tbody>\n",
       "    <tr>\n",
       "      <th>0</th>\n",
       "      <td>A100000</td>\n",
       "      <td>5</td>\n",
       "      <td>1</td>\n",
       "      <td>400301.62</td>\n",
       "      <td>265.5</td>\n",
       "      <td>57.0</td>\n",
       "      <td>179.0</td>\n",
       "      <td>400301.620000</td>\n",
       "      <td>80060.324</td>\n",
       "    </tr>\n",
       "    <tr>\n",
       "      <th>1</th>\n",
       "      <td>A101708</td>\n",
       "      <td>34</td>\n",
       "      <td>12</td>\n",
       "      <td>3365420.03</td>\n",
       "      <td>217.5</td>\n",
       "      <td>260.5</td>\n",
       "      <td>253.0</td>\n",
       "      <td>280451.669167</td>\n",
       "      <td>673084.006</td>\n",
       "    </tr>\n",
       "    <tr>\n",
       "      <th>2</th>\n",
       "      <td>A107587</td>\n",
       "      <td>89</td>\n",
       "      <td>3</td>\n",
       "      <td>157854.92</td>\n",
       "      <td>140.5</td>\n",
       "      <td>184.0</td>\n",
       "      <td>133.0</td>\n",
       "      <td>52618.306667</td>\n",
       "      <td>31570.984</td>\n",
       "    </tr>\n",
       "  </tbody>\n",
       "</table>\n",
       "</div>"
      ],
      "text/plain": [
       "  Customer Code  Recency  Frequency    Monetary  R_score  F_score  M_score  \\\n",
       "0       A100000        5          1   400301.62    265.5     57.0    179.0   \n",
       "1       A101708       34         12  3365420.03    217.5    260.5    253.0   \n",
       "2       A107587       89          3   157854.92    140.5    184.0    133.0   \n",
       "\n",
       "   Avg_order_value  Profit_margin  \n",
       "0    400301.620000      80060.324  \n",
       "1    280451.669167     673084.006  \n",
       "2     52618.306667      31570.984  "
      ]
     },
     "execution_count": 127,
     "metadata": {},
     "output_type": "execute_result"
    }
   ],
   "source": [
    "CLTV_Table[\"Profit_margin\"] = CLTV_Table[\"Monetary\"] * 0.20\n",
    "CLTV_Table.head(3)"
   ]
  },
  {
   "cell_type": "code",
   "execution_count": 128,
   "metadata": {},
   "outputs": [
    {
     "data": {
      "text/html": [
       "<div>\n",
       "<style scoped>\n",
       "    .dataframe tbody tr th:only-of-type {\n",
       "        vertical-align: middle;\n",
       "    }\n",
       "\n",
       "    .dataframe tbody tr th {\n",
       "        vertical-align: top;\n",
       "    }\n",
       "\n",
       "    .dataframe thead th {\n",
       "        text-align: right;\n",
       "    }\n",
       "</style>\n",
       "<table border=\"1\" class=\"dataframe\">\n",
       "  <thead>\n",
       "    <tr style=\"text-align: right;\">\n",
       "      <th></th>\n",
       "      <th>Customer Code</th>\n",
       "      <th>Recency</th>\n",
       "      <th>Frequency</th>\n",
       "      <th>Monetary</th>\n",
       "      <th>R_score</th>\n",
       "      <th>F_score</th>\n",
       "      <th>M_score</th>\n",
       "      <th>Avg_order_value</th>\n",
       "      <th>Profit_margin</th>\n",
       "      <th>CLTV</th>\n",
       "    </tr>\n",
       "  </thead>\n",
       "  <tbody>\n",
       "    <tr>\n",
       "      <th>0</th>\n",
       "      <td>A100000</td>\n",
       "      <td>5</td>\n",
       "      <td>1</td>\n",
       "      <td>400301.62</td>\n",
       "      <td>265.5</td>\n",
       "      <td>57.0</td>\n",
       "      <td>179.0</td>\n",
       "      <td>400301.620000</td>\n",
       "      <td>80060.324</td>\n",
       "      <td>3.585002e+06</td>\n",
       "    </tr>\n",
       "    <tr>\n",
       "      <th>1</th>\n",
       "      <td>A101708</td>\n",
       "      <td>34</td>\n",
       "      <td>12</td>\n",
       "      <td>3365420.03</td>\n",
       "      <td>217.5</td>\n",
       "      <td>260.5</td>\n",
       "      <td>253.0</td>\n",
       "      <td>280451.669167</td>\n",
       "      <td>673084.006</td>\n",
       "      <td>2.511656e+06</td>\n",
       "    </tr>\n",
       "    <tr>\n",
       "      <th>2</th>\n",
       "      <td>A107587</td>\n",
       "      <td>89</td>\n",
       "      <td>3</td>\n",
       "      <td>157854.92</td>\n",
       "      <td>140.5</td>\n",
       "      <td>184.0</td>\n",
       "      <td>133.0</td>\n",
       "      <td>52618.306667</td>\n",
       "      <td>31570.984</td>\n",
       "      <td>4.712365e+05</td>\n",
       "    </tr>\n",
       "  </tbody>\n",
       "</table>\n",
       "</div>"
      ],
      "text/plain": [
       "  Customer Code  Recency  Frequency    Monetary  R_score  F_score  M_score  \\\n",
       "0       A100000        5          1   400301.62    265.5     57.0    179.0   \n",
       "1       A101708       34         12  3365420.03    217.5    260.5    253.0   \n",
       "2       A107587       89          3   157854.92    140.5    184.0    133.0   \n",
       "\n",
       "   Avg_order_value  Profit_margin          CLTV  \n",
       "0    400301.620000      80060.324  3.585002e+06  \n",
       "1    280451.669167     673084.006  2.511656e+06  \n",
       "2     52618.306667      31570.984  4.712365e+05  "
      ]
     },
     "execution_count": 128,
     "metadata": {},
     "output_type": "execute_result"
    }
   ],
   "source": [
    "CLTV_Table[\"CLTV\"] = CLTV_Table[\"Avg_order_value\"]*purchase_frequency/churn_rate\n",
    "CLTV_Table[\"CLTV\"].round(2)\n",
    "CLTV_Table.head(3)"
   ]
  }
 ],
 "metadata": {
  "kernelspec": {
   "display_name": "Python 3",
   "language": "python",
   "name": "python3"
  },
  "language_info": {
   "codemirror_mode": {
    "name": "ipython",
    "version": 3
   },
   "file_extension": ".py",
   "mimetype": "text/x-python",
   "name": "python",
   "nbconvert_exporter": "python",
   "pygments_lexer": "ipython3",
   "version": "3.11.0"
  }
 },
 "nbformat": 4,
 "nbformat_minor": 2
}
